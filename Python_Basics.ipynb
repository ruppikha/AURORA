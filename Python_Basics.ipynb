{
  "nbformat": 4,
  "nbformat_minor": 0,
  "metadata": {
    "colab": {
      "provenance": [],
      "include_colab_link": true
    },
    "kernelspec": {
      "name": "python3",
      "display_name": "Python 3"
    },
    "language_info": {
      "name": "python"
    }
  },
  "cells": [
    {
      "cell_type": "markdown",
      "metadata": {
        "id": "view-in-github",
        "colab_type": "text"
      },
      "source": [
        "<a href=\"https://colab.research.google.com/github/ruppikha/AURORA/blob/main/Python_Basics.ipynb\" target=\"_parent\"><img src=\"https://colab.research.google.com/assets/colab-badge.svg\" alt=\"Open In Colab\"/></a>"
      ]
    },
    {
      "cell_type": "code",
      "source": [
        "def f1():\n",
        "  print(\"In Function1\")\n",
        "  list = []\n",
        "  for i in range(4,20):\n",
        "    if i%2==0:\n",
        "      print('* '*i)\n",
        "      l.append(i)\n",
        "  return l\n",
        "\n",
        "\n",
        "l = []\n",
        "l = f1()\n",
        "print(l)"
      ],
      "metadata": {
        "colab": {
          "base_uri": "https://localhost:8080/"
        },
        "id": "crNNmfienk_G",
        "outputId": "88160d32-a36d-4c13-9b4a-a01578281cf4"
      },
      "execution_count": null,
      "outputs": [
        {
          "output_type": "stream",
          "name": "stdout",
          "text": [
            "5\n",
            "5.5\n",
            "Hello\n",
            "In Function1\n",
            "* * * * \n",
            "* * * * * * \n",
            "* * * * * * * * \n",
            "* * * * * * * * * * \n",
            "* * * * * * * * * * * * \n",
            "* * * * * * * * * * * * * * \n",
            "* * * * * * * * * * * * * * * * \n",
            "* * * * * * * * * * * * * * * * * * \n",
            "[4, 6, 8, 10, 12, 14, 16, 18]\n"
          ]
        }
      ]
    },
    {
      "cell_type": "code",
      "execution_count": null,
      "metadata": {
        "colab": {
          "base_uri": "https://localhost:8080/"
        },
        "id": "0E65zZY-TMRG",
        "outputId": "8343e50d-b51e-4cb4-9e77-80dfb77f722b"
      },
      "outputs": [
        {
          "output_type": "stream",
          "name": "stdout",
          "text": [
            "Hello World\n",
            "Welcome\n"
          ]
        }
      ],
      "source": [
        "print(\"Hello World\") #Printing\n",
        "print(\"Welcome\") "
      ]
    },
    {
      "cell_type": "markdown",
      "source": [
        "Indentation: Blocks of code are defined using indentation in Python\n",
        "\\\n",
        "Alternative to { } in C"
      ],
      "metadata": {
        "id": "HfU8EUpYT0w4"
      }
    },
    {
      "cell_type": "code",
      "source": [
        "print(\"A\")\n",
        "  print(\"C\") #Indentation error"
      ],
      "metadata": {
        "colab": {
          "base_uri": "https://localhost:8080/",
          "height": 130
        },
        "id": "CewUkodYTVub",
        "outputId": "f687f3e6-6d14-4f4d-fde4-62260e62895d"
      },
      "execution_count": null,
      "outputs": [
        {
          "output_type": "error",
          "ename": "IndentationError",
          "evalue": "ignored",
          "traceback": [
            "\u001b[0;36m  File \u001b[0;32m\"<ipython-input-2-658dd4cf4fa3>\"\u001b[0;36m, line \u001b[0;32m3\u001b[0m\n\u001b[0;31m    print(\"C\") #Indentation error\u001b[0m\n\u001b[0m    ^\u001b[0m\n\u001b[0;31mIndentationError\u001b[0m\u001b[0;31m:\u001b[0m unexpected indent\n"
          ]
        }
      ]
    },
    {
      "cell_type": "markdown",
      "source": [
        "**Variables**"
      ],
      "metadata": {
        "id": "Vdf59sCQUamW"
      }
    },
    {
      "cell_type": "code",
      "source": [
        "a = 'Hello' #No need to mention the data type\n",
        "b = 9\n",
        "c = 4.5\n",
        "d,e,f = \"World\",1,3.5 \n",
        "g = True\n",
        "h = b<c\n",
        "print(a + \" World\") \n",
        "print(b+7) \n",
        "print(a,b,c)\n",
        "print(d,e,f)  \n",
        "print(g,h)"
      ],
      "metadata": {
        "id": "pOGYKjq5Tzl8",
        "colab": {
          "base_uri": "https://localhost:8080/"
        },
        "outputId": "39f58fb8-4735-4b5d-bbfe-c42b7fa1c6fc"
      },
      "execution_count": null,
      "outputs": [
        {
          "output_type": "stream",
          "name": "stdout",
          "text": [
            "Hello World\n",
            "16\n",
            "Hello 9 4.5\n",
            "World 1 3.5\n",
            "True False\n"
          ]
        }
      ]
    },
    {
      "cell_type": "markdown",
      "source": [
        "**Conditional Statements**"
      ],
      "metadata": {
        "id": "qXSiBNzDVqlY"
      }
    },
    {
      "cell_type": "code",
      "source": [
        "if b>c:\n",
        "  print(\"Yes\") #Observe: Indentation to show a block of code\n",
        "else:\n",
        "  print(\"No\")\n",
        "print(\"A\")"
      ],
      "metadata": {
        "colab": {
          "base_uri": "https://localhost:8080/"
        },
        "id": "fahGT-AUU9Xo",
        "outputId": "f58fafb0-d81a-4ed1-d74e-8bf5d7dfa078"
      },
      "execution_count": null,
      "outputs": [
        {
          "output_type": "stream",
          "name": "stdout",
          "text": [
            "Yes\n",
            "A\n"
          ]
        }
      ]
    },
    {
      "cell_type": "code",
      "source": [
        "a=15\n",
        "if a>20:\n",
        "  print(\"A is greater than 20\")\n",
        "elif a>10 and a<20: # elif == else if\n",
        "  print(\"A is greater than 10 and less than 20\")\n",
        "else:\n",
        "  print(\"A is less than 10\")"
      ],
      "metadata": {
        "id": "-Blydo5TU9jy"
      },
      "execution_count": null,
      "outputs": []
    },
    {
      "cell_type": "markdown",
      "source": [],
      "metadata": {
        "id": "pxeFZoTbYi6c"
      }
    },
    {
      "cell_type": "markdown",
      "source": [
        "**Taking Inputs**\n",
        "\n",
        "By default input is taken as a string. It can be converted to other data types by typecasting it. "
      ],
      "metadata": {
        "id": "35dng4hHZFoN"
      }
    },
    {
      "cell_type": "code",
      "source": [
        "x = input(\"Enter a message: \")\n",
        "print(x)\n",
        "\n",
        "y = int(input(\"Enter a number: \"))\n",
        "print(y)\n",
        "\n",
        "z = float(input(\"Enter a decimal number: \"))\n",
        "print(z)"
      ],
      "metadata": {
        "colab": {
          "base_uri": "https://localhost:8080/"
        },
        "id": "rCDjBo-6ZFMT",
        "outputId": "7caf80d3-7847-458e-ac76-7b5ab350af0d"
      },
      "execution_count": null,
      "outputs": [
        {
          "output_type": "stream",
          "name": "stdout",
          "text": [
            "Enter a message: Hello\n",
            "Hello\n",
            "Enter a number: 5\n",
            "5\n",
            "Enter a decimal number: 4.5\n",
            "4.5\n"
          ]
        }
      ]
    },
    {
      "cell_type": "markdown",
      "source": [
        "**Relational Operators:** \n",
        "< , > , == , >= , <= , !=\n",
        "\\\n",
        "**Logical Operators:** \n",
        "and , or , not"
      ],
      "metadata": {
        "id": "0N8TRtmrWQ0T"
      }
    },
    {
      "cell_type": "markdown",
      "source": [
        "**Looping** - for and while\n",
        "\\\n",
        "Run through a block of code given number of times"
      ],
      "metadata": {
        "id": "60Mo22sSWxKN"
      }
    },
    {
      "cell_type": "code",
      "source": [
        "# range([start,]end[,step]) start and step are optional arguments\n",
        "for x in range(11): #0 to end-1\n",
        "  print(x, end = \"-\")\n",
        "y=0\n",
        "print()\n",
        "while(y<11):\n",
        "  print(y,end = \"-\")\n",
        "  y+=1\n",
        "print()\n",
        "print()\n",
        "for i in range(1,10): #start to end-1\n",
        "  print(i ,end = \" \")"
      ],
      "metadata": {
        "id": "Aq7RcVTjWHL-",
        "colab": {
          "base_uri": "https://localhost:8080/"
        },
        "outputId": "f39f055a-aee8-4065-cd37-fa4860fff492"
      },
      "execution_count": null,
      "outputs": [
        {
          "output_type": "stream",
          "name": "stdout",
          "text": [
            "0-1-2-3-4-5-6-7-8-9-10-\n",
            "0-1-2-3-4-5-6-7-8-9-10-\n",
            "\n",
            "1 2 3 4 5 6 7 8 9 "
          ]
        }
      ]
    },
    {
      "cell_type": "code",
      "source": [
        "for i in range(1,10,2): # Here, Step = 2. After every iteration, i = i + 2\n",
        "  print(i , end = \" \")\n",
        "print()\n",
        "y = 1\n",
        "while(y<11):\n",
        "  print(y,end = \" \")\n",
        "  y+=2\n",
        "#For loops and while loops can be used interchangably"
      ],
      "metadata": {
        "id": "2CfsgfRiXITF",
        "colab": {
          "base_uri": "https://localhost:8080/"
        },
        "outputId": "d51e1a5a-db4a-4ebb-853b-ebdd29f92f61"
      },
      "execution_count": null,
      "outputs": [
        {
          "output_type": "stream",
          "name": "stdout",
          "text": [
            "1 3 5 7 9 \n",
            "1 3 5 7 9 "
          ]
        }
      ]
    },
    {
      "cell_type": "code",
      "source": [
        "for i in [11,12,13,14]:\n",
        "  print(i,end = \"--\")"
      ],
      "metadata": {
        "colab": {
          "base_uri": "https://localhost:8080/"
        },
        "id": "xQLOanU9BL7O",
        "outputId": "62545ca5-3309-49f7-edd7-b00d86242e98"
      },
      "execution_count": null,
      "outputs": [
        {
          "output_type": "stream",
          "name": "stdout",
          "text": [
            "11--12--13--14--"
          ]
        }
      ]
    },
    {
      "cell_type": "markdown",
      "source": [
        "Q. Attempt to display the pattern:\n",
        "\n",
        "1\n",
        "\n",
        "2 3 \n",
        "\n",
        "4 5 6\n",
        "\n",
        "7 8 9 10"
      ],
      "metadata": {
        "id": "NIRrQ_FMYA1k"
      }
    },
    {
      "cell_type": "markdown",
      "source": [
        "**Functions**\n",
        "\\\n",
        "A function is a block of code which only runs when it is called. Helps in reusability of codes\n",
        "\\\n",
        "No need to mention data type of parameters and the return type"
      ],
      "metadata": {
        "id": "GREEmQn9XpEu"
      }
    },
    {
      "cell_type": "code",
      "source": [
        "def sample(a,b):\n",
        "  return a+b\n",
        "\n",
        "x = sample(4,5) #Returned value can be stored in a variable\n",
        "y = 6\n",
        "z = x + y\n",
        "print(x,z)\n",
        "\n",
        "\n",
        "# Returned value can be printed directly\n",
        "print(sample(3.5,7.2))\n",
        "print(sample(\"Hello\",\" World\"))\n",
        "\n"
      ],
      "metadata": {
        "colab": {
          "base_uri": "https://localhost:8080/"
        },
        "id": "SNj2ZpDrXiB6",
        "outputId": "fb68640d-9688-45c0-b422-d89804a1d1d5"
      },
      "execution_count": null,
      "outputs": [
        {
          "output_type": "stream",
          "name": "stdout",
          "text": [
            "9 15\n",
            "10.7\n",
            "Hello World\n"
          ]
        }
      ]
    },
    {
      "cell_type": "markdown",
      "source": [
        "# **PROGRESS CHECK**"
      ],
      "metadata": {
        "id": "XSwRaBSYBlsl"
      }
    },
    {
      "cell_type": "code",
      "source": [
        "def factorial(n):\n",
        "    result = n\n",
        "    start = n\n",
        "    n -= 1\n",
        "    while n>0: \n",
        "        result *= n \n",
        "                 #Decrement statemnt\n",
        "    return        #what should be returned?\n",
        "  \n"
      ],
      "metadata": {
        "id": "A9HiZCIdBA0A"
      },
      "execution_count": null,
      "outputs": []
    },
    {
      "cell_type": "markdown",
      "source": [
        "Q. Write a Python function to find the Max of three numbers."
      ],
      "metadata": {
        "id": "x7o4utIeFJXz"
      }
    },
    {
      "cell_type": "markdown",
      "source": [
        "**String Basics** "
      ],
      "metadata": {
        "id": "ifLqN0OrKkXg"
      }
    },
    {
      "cell_type": "code",
      "source": [
        "print(\"Hello\")\n",
        "print('Hello')\n",
        "#Both prints \"Hello\"\n",
        "\n",
        "\n",
        "a = \"AURORA!\"\n",
        "print(a[1])\n",
        "#counts from 0\n",
        "\n",
        "\n",
        "for x in \"AURORA\":\n",
        "  print(x , end = \" \")\n",
        "#prints AURORA\n",
        "\n",
        "print()\n",
        "\n",
        "a = \"Hello, World!\"\n",
        "print(len(a))\n",
        "#prints the length of a\n",
        "\n",
        "txt = \"Hello World\"\n",
        "if \"Hello\" in txt:\n",
        "  print(\"Yes, 'Hello' is present.\")\n",
        "\n",
        "\n",
        "a = \"Hello, World!\"\n",
        "print(a.upper())\n",
        "\n",
        "a = \"Hello, World!\"\n",
        "print(a.lower())\n",
        "\n"
      ],
      "metadata": {
        "id": "bhaHyVBOKVVs",
        "colab": {
          "base_uri": "https://localhost:8080/"
        },
        "outputId": "83cb3365-caf5-4cd4-8c96-003e9e9d7937"
      },
      "execution_count": null,
      "outputs": [
        {
          "output_type": "stream",
          "name": "stdout",
          "text": [
            "Hello\n",
            "Hello\n",
            "U\n",
            "A U R O R A \n",
            "13\n",
            "Yes, 'Hello' is present.\n",
            "HELLO, WORLD!\n",
            "hello, world!\n"
          ]
        }
      ]
    },
    {
      "cell_type": "markdown",
      "source": [
        "**String Slicing**"
      ],
      "metadata": {
        "id": "wFaO-cVSMCMX"
      }
    },
    {
      "cell_type": "code",
      "source": [
        "b = \"Hello, World!\"\n",
        "print(b[2:5]) #(x,y-1)\n",
        "print(b[2:])\n",
        "print(b[:5])\n",
        "print(b[-5:])\n",
        "#b[1] = 'i'\n",
        "print(b[-1*len(b):])"
      ],
      "metadata": {
        "id": "kZBjvEjZMEm5",
        "colab": {
          "base_uri": "https://localhost:8080/"
        },
        "outputId": "010df9ae-6ee2-4d22-a644-6adf2df9a5c5"
      },
      "execution_count": null,
      "outputs": [
        {
          "output_type": "stream",
          "name": "stdout",
          "text": [
            "llo\n",
            "llo, World!\n",
            "Hello\n",
            "orld!\n",
            "Hello, World!\n"
          ]
        }
      ]
    },
    {
      "cell_type": "markdown",
      "source": [
        "**String Formatting**"
      ],
      "metadata": {
        "id": "V2qXOU_YNWuX"
      }
    },
    {
      "cell_type": "code",
      "source": [
        "age = 26\n",
        "txt = \"I am {} years old\"\n",
        "print(txt.format(age)) \n",
        "\n",
        "\n",
        "quantity = 3\n",
        "item = \"chocolate\"\n",
        "price = 30.25\n",
        "myorder = \"I want {} pieces of {} for {} dollars.\"\n",
        "print(myorder.format(quantity, item, price))"
      ],
      "metadata": {
        "id": "FubGqzxZNe2G",
        "colab": {
          "base_uri": "https://localhost:8080/"
        },
        "outputId": "77451c22-fba9-435a-f2ad-a085558d746d"
      },
      "execution_count": null,
      "outputs": [
        {
          "output_type": "stream",
          "name": "stdout",
          "text": [
            "I am 26 years old\n",
            "I want 3 pieces of chocolate for 30.25 dollars.\n"
          ]
        }
      ]
    },
    {
      "cell_type": "markdown",
      "source": [
        "**Lists** \n",
        "\n",
        "List is a collection which is ordered and mutable. Allows duplicate members."
      ],
      "metadata": {
        "id": "wbS82IyFQv3_"
      }
    },
    {
      "cell_type": "code",
      "source": [
        "thislist = list((\"apple\", \"banana\", \"cherry\")) # note the double round-brackets\n",
        "print(thislist)\n",
        "print()\n",
        "\n",
        "\n",
        "thislist = [\"apple\", \"banana\", \"cherry\", \"orange\", \"kiwi\", \"melon\", \"mango\"]\n",
        "print(thislist[2:5])\n",
        "print(thislist[-5:])\n",
        "print()\n",
        "\n",
        "#Changing elements in the list:\n",
        "thislist = [\"apple\", \"banana\", \"cherry\", \"orange\", \"kiwi\", \"mango\"]\n",
        "thislist[1:3] = [\"blackcurrant\", \"watermelon\"]\n",
        "print(thislist)\n",
        "print()\n",
        "\n",
        "thislist = [\"apple\", \"banana\", \"cherry\"]\n",
        "thislist.insert(2, \"watermelon\")\n",
        "print(thislist)\n",
        "del thislist[-1:]\n",
        "print(thislist)\n",
        "print()\n",
        "\n",
        "fruits = [\"apple\", \"banana\", \"cherry\", \"kiwi\", \"mango\"]\n",
        "newlist = []\n",
        "\n",
        "for x in fruits:\n",
        "  if \"a\" in x:\n",
        "    newlist.append(x)\n",
        "\n",
        "print(newlist)\n",
        "#adds the contents into a new list"
      ],
      "metadata": {
        "id": "W4Sf7vWXQxQZ",
        "colab": {
          "base_uri": "https://localhost:8080/"
        },
        "outputId": "ef159847-bfcc-4cc2-e51a-40e24224f71a"
      },
      "execution_count": null,
      "outputs": [
        {
          "output_type": "stream",
          "name": "stdout",
          "text": [
            "['apple', 'banana', 'cherry']\n",
            "\n",
            "['cherry', 'orange', 'kiwi']\n",
            "['cherry', 'orange', 'kiwi', 'melon', 'mango']\n",
            "\n",
            "['apple', 'blackcurrant', 'watermelon', 'orange', 'kiwi', 'mango']\n",
            "\n",
            "['apple', 'banana', 'watermelon', 'cherry']\n",
            "['apple', 'banana', 'watermelon']\n",
            "\n",
            "['apple', 'banana', 'mango']\n"
          ]
        }
      ]
    },
    {
      "cell_type": "markdown",
      "source": [
        "**LIST METHODS**\n",
        "\n",
        "list.append(elem) -- adds a single element to the end of the list. Common error: does not return the new list, just modifies the original.\n",
        "\n",
        "list.insert(index, elem) -- inserts the element at the given index, shifting elements to the right.\n",
        "\n",
        "list.extend(list2) -- adds the elements in list2 to the end of the list. Using + or += on a list is similar to using extend().\n",
        "\n",
        "list.index(elem) -- searches for the given element from the start of the list and returns its index. Throws a ValueError if the element does not appear \n",
        "\n",
        "list.remove(elem) -- searches for the first instance of the given element and removes it (throws ValueError if not present)\n",
        "\n",
        "list.sort() -- sorts the list in place (does not return it). \n",
        "\n",
        "list.reverse() -- reverses the list in place (does not return it)\n",
        "\n",
        "list.pop(index) -- removes and returns the element at the given index. Returns the rightmost element if index is omitted (roughly the opposite of append())."
      ],
      "metadata": {
        "id": "xF5r9YbySBMh"
      }
    },
    {
      "cell_type": "markdown",
      "source": [
        "**Dictionaries**\n",
        "\\\n",
        "Key-Value pairs\n",
        "\\\n",
        "Keys are immutable but values are mutable\n",
        "\\\n",
        "Unordered collections\n",
        "\\\n",
        "Heterogenous values can be stored\n"
      ],
      "metadata": {
        "id": "eACeS8f4S7R0"
      }
    },
    {
      "cell_type": "code",
      "source": [
        "#Dictionary items are ordered, changeable, have different datatypes and does not allow duplicates.\n",
        "\n",
        "thisdict = {\n",
        "  \"brand\": \"Ford\",\n",
        "  \"model\": \"Mustang\",\n",
        "  \"year\": 1964\n",
        "}\n",
        "print(thisdict)\n",
        "\n",
        "x = thisdict.get(\"model\")\n",
        "print(x,\"\\n\")\n",
        "\n",
        "thisdict = {\n",
        "  \"brand\": \"Ford\",\n",
        "  \"model\": \"Mustang\",\n",
        "  \"year\": 1964\n",
        "}\n",
        "thisdict[\"color\"] = \"red\"\n",
        "print(thisdict)\n",
        "#adds a key to the dictionary\n",
        "\n",
        "if \"model\" in thisdict:\n",
        "  print(\"Yes, 'model' is one of the keys in the thisdict dictionary\\n\")\n",
        "\n",
        "del thisdict['year']\n",
        "print(thisdict)"
      ],
      "metadata": {
        "id": "A-7-ikHTS9RS",
        "colab": {
          "base_uri": "https://localhost:8080/"
        },
        "outputId": "3bc0720a-ae1a-4e81-fb14-984955b35ac8"
      },
      "execution_count": null,
      "outputs": [
        {
          "output_type": "stream",
          "name": "stdout",
          "text": [
            "{'brand': 'Ford', 'model': 'Mustang', 'year': 1964}\n",
            "Mustang \n",
            "\n",
            "{'brand': 'Ford', 'model': 'Mustang', 'year': 1964, 'color': 'red'}\n",
            "Yes, 'model' is one of the keys in the thisdict dictionary\n",
            "\n",
            "{'brand': 'Ford', 'model': 'Mustang', 'color': 'red'}\n"
          ]
        }
      ]
    },
    {
      "cell_type": "markdown",
      "source": [
        "**DICTIONARY METHODS**\n",
        "\n",
        "dict.keys() - Returns a list of the keys\n",
        "\n",
        "dict.values() - Returns a list of the values\n",
        "\n",
        "dict.items() - Returns a tuple containing the (key,value) pairs\n"
      ],
      "metadata": {
        "id": "MnOCFCwwUvnh"
      }
    },
    {
      "cell_type": "code",
      "source": [
        "dict = {}\n",
        "dict['a'] = 'alpha'\n",
        "dict['g'] = 'gamma'\n",
        "dict['o'] = 'omega'\n",
        "\n",
        "for key in dict: print(key, end = \" \") #Will return the same as - for key in dict.keys()\n",
        "\n",
        "print()\n",
        "for val in dict.values(): print(val,end = \" \")\n",
        "\n",
        "print()\n",
        "for k,v in dict.items():\n",
        "  print(k,\"->\",v)\n",
        "\n",
        "dict['b'] = \"beta\"\n",
        "print(dict)\n",
        "print(sorted(dict)) #List of keys in sorted order. Done in place\n",
        "del dict['o']\n",
        "print(dict)"
      ],
      "metadata": {
        "colab": {
          "base_uri": "https://localhost:8080/"
        },
        "id": "SMZi7crQT9Mv",
        "outputId": "5bbe1d01-7b04-426c-f9ed-b20903a06f50"
      },
      "execution_count": null,
      "outputs": [
        {
          "output_type": "stream",
          "name": "stdout",
          "text": [
            "a g o \n",
            "alpha gamma omega \n",
            "a -> alpha\n",
            "g -> gamma\n",
            "o -> omega\n",
            "{'a': 'alpha', 'g': 'gamma', 'o': 'omega', 'b': 'beta'}\n",
            "['a', 'b', 'g', 'o']\n",
            "{'a': 'alpha', 'g': 'gamma', 'b': 'beta'}\n"
          ]
        }
      ]
    },
    {
      "cell_type": "markdown",
      "source": [
        "Other data collection structures: Tuples(Immutable,ordered,heterogenous) and Sets(Mutable,Unordered,Homogenous)\n",
        "\\\n",
        "tuple_ex = (1,2,3)\n",
        "\\\n",
        "set_ex = {1,2,3}"
      ],
      "metadata": {
        "id": "s6LQmp7LgS5b"
      }
    },
    {
      "cell_type": "markdown",
      "source": [
        "**NUMPY**"
      ],
      "metadata": {
        "id": "DqH7jGhxWi0o"
      }
    },
    {
      "cell_type": "code",
      "source": [
        "import numpy as np"
      ],
      "metadata": {
        "id": "W-In8-0zWsbc"
      },
      "execution_count": null,
      "outputs": []
    },
    {
      "cell_type": "code",
      "source": [
        "x = np.array([1, 2, 3, 4, 5])\n",
        "print('x = ', x) \n",
        "print('x has dimensions:', x.shape) \n",
        "print('The elements in x are of type:', x.dtype)\n",
        "\n",
        "print()\n",
        "# Create a rank 2 ndarray that only contains integers\n",
        "Y = np.array([[1,2,3],[4,5,6],[7,8,9], [10,11,12]])\n",
        "print('Y has dimensions:', Y.shape) \n",
        "print('Y has a total of', Y.size, 'elements') \n",
        "print('Y is an object of type:', type(Y))\n",
        "print('The elements in Y are of type:', Y.dtype) "
      ],
      "metadata": {
        "colab": {
          "base_uri": "https://localhost:8080/"
        },
        "id": "evrkPlZOj2pg",
        "outputId": "c9498779-9f40-4efd-d62e-cb6dbe86deb7"
      },
      "execution_count": null,
      "outputs": [
        {
          "output_type": "stream",
          "name": "stdout",
          "text": [
            "x =  [1 2 3 4 5]\n",
            "x has dimensions: (5,)\n",
            "The elements in x are of type: int64\n",
            "\n",
            "Y has dimensions: (4, 3)\n",
            "Y has a total of 12 elements\n",
            "Y is an object of type: <class 'numpy.ndarray'>\n",
            "The elements in Y are of type: int64\n"
          ]
        }
      ]
    },
    {
      "cell_type": "code",
      "source": [
        "print(x+3)\n",
        "print(x*5) \n",
        "print(x-1)\n",
        "print(x**2) #Performs the mathematical operations on elements of the ndarray"
      ],
      "metadata": {
        "colab": {
          "base_uri": "https://localhost:8080/"
        },
        "id": "b7ceQsqakEtz",
        "outputId": "644a27df-0413-4517-cded-5e26e39ccbb4"
      },
      "execution_count": null,
      "outputs": [
        {
          "output_type": "stream",
          "name": "stdout",
          "text": [
            "[4 5 6 7 8]\n",
            "[ 5 10 15 20 25]\n",
            "[0 1 2 3 4]\n",
            "[ 1  4  9 16 25]\n"
          ]
        }
      ]
    },
    {
      "cell_type": "code",
      "source": [
        "l1 = [1,2,3,4]\n",
        "print(l1*2) #Doubles the list and returns the combined list"
      ],
      "metadata": {
        "colab": {
          "base_uri": "https://localhost:8080/"
        },
        "id": "cxzgtRfimf3N",
        "outputId": "c3604dc2-ab30-4e65-da2b-0ba730622f28"
      },
      "execution_count": null,
      "outputs": [
        {
          "output_type": "stream",
          "name": "stdout",
          "text": [
            "[1, 2, 3, 4, 1, 2, 3, 4]\n"
          ]
        }
      ]
    },
    {
      "cell_type": "code",
      "source": [
        "X = np.zeros((3,4))\n",
        "Y = np.ones((5,6))\n",
        "Z = np.full((4,3), 5)\n",
        "print(X,\"\\n\",Y,\"\\n\",Z)"
      ],
      "metadata": {
        "colab": {
          "base_uri": "https://localhost:8080/"
        },
        "id": "qb3Qhvu7mtEl",
        "outputId": "0bbd42e6-fedd-458b-d1e1-e754552c7f65"
      },
      "execution_count": null,
      "outputs": [
        {
          "output_type": "stream",
          "name": "stdout",
          "text": [
            "[[0. 0. 0. 0.]\n",
            " [0. 0. 0. 0.]\n",
            " [0. 0. 0. 0.]] \n",
            " [[1. 1. 1. 1. 1. 1.]\n",
            " [1. 1. 1. 1. 1. 1.]\n",
            " [1. 1. 1. 1. 1. 1.]\n",
            " [1. 1. 1. 1. 1. 1.]\n",
            " [1. 1. 1. 1. 1. 1.]] \n",
            " [[5 5 5]\n",
            " [5 5 5]\n",
            " [5 5 5]\n",
            " [5 5 5]]\n"
          ]
        }
      ]
    },
    {
      "cell_type": "code",
      "source": [
        "x = np.arange(10)\n",
        "y = np.arange(10,20)\n",
        "print(x,y)"
      ],
      "metadata": {
        "colab": {
          "base_uri": "https://localhost:8080/"
        },
        "id": "WIf-Nol-nPXR",
        "outputId": "eda98b43-15c0-429f-b890-a1267f5bb332"
      },
      "execution_count": null,
      "outputs": [
        {
          "output_type": "stream",
          "name": "stdout",
          "text": [
            "[0 1 2 3 4 5 6 7 8 9] [10 11 12 13 14 15 16 17 18 19]\n"
          ]
        }
      ]
    },
    {
      "cell_type": "code",
      "source": [
        "X = np.arange(20).reshape(4, 5)\n",
        "print(X,\"\\n\")\n",
        "\n",
        "X[0,0] = 20\n",
        "print(X,\"\\n\")\n",
        "\n",
        "Z = X[1:4,2:5]\n",
        "print(Z)"
      ],
      "metadata": {
        "colab": {
          "base_uri": "https://localhost:8080/"
        },
        "id": "NioOFnq4nkOU",
        "outputId": "55bb8b95-8966-4a6a-bdb3-55967a2941ad"
      },
      "execution_count": null,
      "outputs": [
        {
          "output_type": "stream",
          "name": "stdout",
          "text": [
            "[[ 0  1  2  3  4]\n",
            " [ 5  6  7  8  9]\n",
            " [10 11 12 13 14]\n",
            " [15 16 17 18 19]] \n",
            "\n",
            "[[20  1  2  3  4]\n",
            " [ 5  6  7  8  9]\n",
            " [10 11 12 13 14]\n",
            " [15 16 17 18 19]] \n",
            "\n",
            "[[ 7  8  9]\n",
            " [12 13 14]\n",
            " [17 18 19]]\n"
          ]
        }
      ]
    },
    {
      "cell_type": "code",
      "source": [
        "x = np.array([1, 2, 3, 4, 5])\n",
        "x = np.append(x, 6)\n",
        "x = np.append(x, [7,8])\n",
        "print(\"Before deleting: \", x)\n",
        "x = np.delete(x, [0,4]) #Deletes the 1st(0th indes) and 5th(4th index) element from x\n",
        "print(\"After deleting: \", x)\n",
        "print()\n",
        "\n",
        "Y = np.array([[1,2,3],[4,5,6],[7,8,9]])\n",
        "Y = np.append(Y, [[10,11,12]], axis=0)\n",
        "print(\"Before deleting:\\n\",Y)\n",
        "Y = np.delete(Y, 0, axis=0) #Deletes the first row(axis = 0)\n",
        "Y = np.delete(Y, [0,2], axis=1) #Deletes the first and the 3rd columns(axis = 1)\n",
        "print(\"After deleting:\\n\",Y)"
      ],
      "metadata": {
        "colab": {
          "base_uri": "https://localhost:8080/"
        },
        "id": "_5pR8FPFnumt",
        "outputId": "4f108ad8-ad43-4532-bbb0-10a1e404f126"
      },
      "execution_count": null,
      "outputs": [
        {
          "output_type": "stream",
          "name": "stdout",
          "text": [
            "Before deleting:  [1 2 3 4 5 6 7 8]\n",
            "After deleting:  [2 3 4 6 7 8]\n",
            "\n",
            "Before deleting:\n",
            " [[ 1  2  3]\n",
            " [ 4  5  6]\n",
            " [ 7  8  9]\n",
            " [10 11 12]]\n",
            "After deleting:\n",
            " [[ 5]\n",
            " [ 8]\n",
            " [11]]\n"
          ]
        }
      ]
    },
    {
      "cell_type": "markdown",
      "source": [
        "**Other numpy methods:**\n",
        "\\\n",
        "np.insert(x,2,[3,4]) - Will insert the list at index 2 in x\n",
        "\\\n",
        "np.vstack((x,y)) - Stack the 2 ndarrays vertically. Number of columns should match\n",
        "\\\n",
        "np.hstack((x,y)) - Stack the 2 arrays horizontally. Number of rows should match\n",
        "\\\n",
        "Z = np.copy(X[1:4,2:5]) - Creates a copy of the passed ndarray\n",
        "\\\n",
        "np.sort(x)"
      ],
      "metadata": {
        "id": "YEw1EpxbsWBO"
      }
    },
    {
      "cell_type": "markdown",
      "source": [
        "**Math Functions**\n",
        "\n",
        "1) np.add(X,Y)\n",
        "\\\n",
        "2) np.subtract(X,Y)\n",
        "\\\n",
        "3) np.multiply(X,Y)\n",
        "\\\n",
        "4) np.divide(X,Y)\n",
        "\\\n",
        "5) np.exp(x)\n",
        "\\\n",
        "6) np.sqrt(x)\n",
        "\\\n",
        "7) np.power(x,2)\n",
        "\n",
        "**Statistical Functions**\\\n",
        "min(), max(), sum(), mean(), median(), std()\n",
        "\\\n",
        "ndarray-name.min() (or) ndarray-name.max()"
      ],
      "metadata": {
        "id": "qffsQSygtpOe"
      }
    },
    {
      "cell_type": "markdown",
      "source": [
        "**PANDAS**"
      ],
      "metadata": {
        "id": "j2dHKea8vWPU"
      }
    },
    {
      "cell_type": "code",
      "source": [
        "import pandas as pd "
      ],
      "metadata": {
        "id": "gW31QGBqoqVv"
      },
      "execution_count": null,
      "outputs": []
    },
    {
      "cell_type": "markdown",
      "source": [
        "Series: 1D data, can hold heterogenous values & indexes are labelled"
      ],
      "metadata": {
        "id": "KLrWW7P-SbqY"
      }
    },
    {
      "cell_type": "code",
      "source": [
        "groceries = pd.Series(data = [30, 6, 'Yes', 'No'], index = ['eggs', 'apples', 'milk', 'bread'])\n",
        "print(groceries)\n",
        "print()\n",
        "#print(groceries.shape)\n",
        "#print(groceries.ndim)\n",
        "#print(groceries.size)\n",
        "#print(groceries.values)\n",
        "#print(groceries.index)"
      ],
      "metadata": {
        "colab": {
          "base_uri": "https://localhost:8080/"
        },
        "id": "Nz1nXl0s4duz",
        "outputId": "a355bf17-8b27-4c38-c994-068dc3f00e72"
      },
      "execution_count": null,
      "outputs": [
        {
          "output_type": "stream",
          "name": "stdout",
          "text": [
            "eggs       30\n",
            "apples      6\n",
            "milk      Yes\n",
            "bread      No\n",
            "dtype: object\n",
            "\n"
          ]
        }
      ]
    },
    {
      "cell_type": "code",
      "source": [
        "print(groceries[\"eggs\"])\n",
        "print(groceries[[\"milk\",\"bread\"]])"
      ],
      "metadata": {
        "colab": {
          "base_uri": "https://localhost:8080/"
        },
        "id": "a07Npp0VSala",
        "outputId": "5344b25a-909e-4156-835c-96493ab963dd"
      },
      "execution_count": null,
      "outputs": [
        {
          "output_type": "stream",
          "name": "stdout",
          "text": [
            "30\n",
            "milk     Yes\n",
            "bread     No\n",
            "dtype: object\n"
          ]
        }
      ]
    },
    {
      "cell_type": "code",
      "source": [
        "groceries.drop(\"apples\")\n",
        "print(groceries)\n",
        "groceries.drop(\"apples\", inplace = True)"
      ],
      "metadata": {
        "colab": {
          "base_uri": "https://localhost:8080/"
        },
        "id": "dsUxKbHwTf9j",
        "outputId": "da2e30c8-3725-4bff-b40e-2867e829edce"
      },
      "execution_count": null,
      "outputs": [
        {
          "output_type": "stream",
          "name": "stdout",
          "text": [
            "eggs       30\n",
            "apples      6\n",
            "milk      Yes\n",
            "bread      No\n",
            "dtype: object\n",
            "eggs      30\n",
            "milk     Yes\n",
            "bread     No\n",
            "dtype: object\n"
          ]
        }
      ]
    },
    {
      "cell_type": "code",
      "source": [
        "print(groceries)"
      ],
      "metadata": {
        "colab": {
          "base_uri": "https://localhost:8080/"
        },
        "id": "dxhrYIdeUkat",
        "outputId": "098304a9-3b49-4f23-aecb-08a487ab6259"
      },
      "execution_count": null,
      "outputs": [
        {
          "output_type": "stream",
          "name": "stdout",
          "text": [
            "eggs       30\n",
            "apples      6\n",
            "milk      Yes\n",
            "bread      No\n",
            "dtype: object\n"
          ]
        }
      ]
    },
    {
      "cell_type": "markdown",
      "source": [
        "DataFrames: 2D data, Rows and columns are labelled"
      ],
      "metadata": {
        "id": "EgXmSa_rVVni"
      }
    },
    {
      "cell_type": "code",
      "source": [
        "items = {'Bob' : [245, 25, 55,40,30], 'Alice' : [40, 110, 450, 45,10]}\n",
        "df = pd.DataFrame(items)\n",
        "print(df,\"\\n\")\n",
        "df.index = ['book','watch','pants','shirts','bike']\n",
        "df[\"Bob\"][\"book\"] = 30\n",
        "print(df,\"\\n\")"
      ],
      "metadata": {
        "colab": {
          "base_uri": "https://localhost:8080/"
        },
        "id": "jRpnvp6AUwef",
        "outputId": "48ca80ca-9033-404b-8bef-3c88a1535d13"
      },
      "execution_count": null,
      "outputs": [
        {
          "output_type": "stream",
          "name": "stdout",
          "text": [
            "   Bob  Alice\n",
            "0  245     40\n",
            "1   25    110\n",
            "2   55    450\n",
            "3   40     45\n",
            "4   30     10 \n",
            "\n",
            "        Bob  Alice\n",
            "book     30     40\n",
            "watch    25    110\n",
            "pants    55    450\n",
            "shirts   40     45\n",
            "bike     30     10 \n",
            "\n"
          ]
        }
      ]
    },
    {
      "cell_type": "code",
      "source": [
        "user_1 = pd.Series(data = [3.2, np.nan ,2.5])\n",
        "user_2 = pd.Series(data = [5., 1.3, 4.0, 3.8])\n",
        "user_3 = pd.Series(data = [2.0, 2.3, np.nan, 4])\n",
        "user_4 = pd.Series(data = [4, 3.5, 4, 5, 4.2])\n",
        "\n",
        "udict = {\"U1\":user_1,\"U2\":user_2,\"U3\":user_3,\"U4\":user_4}\n",
        "df1 = pd.DataFrame(udict,columns = [\"U1\",\"U2\",\"U3\",\"U4\"])\n",
        "df1"
      ],
      "metadata": {
        "colab": {
          "base_uri": "https://localhost:8080/",
          "height": 206
        },
        "id": "7Joa67kcVlmz",
        "outputId": "20257639-0236-45df-a32f-a7f21dbc833d"
      },
      "execution_count": null,
      "outputs": [
        {
          "output_type": "execute_result",
          "data": {
            "text/plain": [
              "    U1   U2   U3   U4\n",
              "0  3.2  5.0  2.0  4.0\n",
              "1  NaN  1.3  2.3  3.5\n",
              "2  2.5  4.0  NaN  4.0\n",
              "3  NaN  3.8  4.0  5.0\n",
              "4  NaN  NaN  NaN  4.2"
            ],
            "text/html": [
              "\n",
              "  <div id=\"df-45405314-79fa-4bc5-a278-7defe90d576f\">\n",
              "    <div class=\"colab-df-container\">\n",
              "      <div>\n",
              "<style scoped>\n",
              "    .dataframe tbody tr th:only-of-type {\n",
              "        vertical-align: middle;\n",
              "    }\n",
              "\n",
              "    .dataframe tbody tr th {\n",
              "        vertical-align: top;\n",
              "    }\n",
              "\n",
              "    .dataframe thead th {\n",
              "        text-align: right;\n",
              "    }\n",
              "</style>\n",
              "<table border=\"1\" class=\"dataframe\">\n",
              "  <thead>\n",
              "    <tr style=\"text-align: right;\">\n",
              "      <th></th>\n",
              "      <th>U1</th>\n",
              "      <th>U2</th>\n",
              "      <th>U3</th>\n",
              "      <th>U4</th>\n",
              "    </tr>\n",
              "  </thead>\n",
              "  <tbody>\n",
              "    <tr>\n",
              "      <th>0</th>\n",
              "      <td>3.2</td>\n",
              "      <td>5.0</td>\n",
              "      <td>2.0</td>\n",
              "      <td>4.0</td>\n",
              "    </tr>\n",
              "    <tr>\n",
              "      <th>1</th>\n",
              "      <td>NaN</td>\n",
              "      <td>1.3</td>\n",
              "      <td>2.3</td>\n",
              "      <td>3.5</td>\n",
              "    </tr>\n",
              "    <tr>\n",
              "      <th>2</th>\n",
              "      <td>2.5</td>\n",
              "      <td>4.0</td>\n",
              "      <td>NaN</td>\n",
              "      <td>4.0</td>\n",
              "    </tr>\n",
              "    <tr>\n",
              "      <th>3</th>\n",
              "      <td>NaN</td>\n",
              "      <td>3.8</td>\n",
              "      <td>4.0</td>\n",
              "      <td>5.0</td>\n",
              "    </tr>\n",
              "    <tr>\n",
              "      <th>4</th>\n",
              "      <td>NaN</td>\n",
              "      <td>NaN</td>\n",
              "      <td>NaN</td>\n",
              "      <td>4.2</td>\n",
              "    </tr>\n",
              "  </tbody>\n",
              "</table>\n",
              "</div>\n",
              "      <button class=\"colab-df-convert\" onclick=\"convertToInteractive('df-45405314-79fa-4bc5-a278-7defe90d576f')\"\n",
              "              title=\"Convert this dataframe to an interactive table.\"\n",
              "              style=\"display:none;\">\n",
              "        \n",
              "  <svg xmlns=\"http://www.w3.org/2000/svg\" height=\"24px\"viewBox=\"0 0 24 24\"\n",
              "       width=\"24px\">\n",
              "    <path d=\"M0 0h24v24H0V0z\" fill=\"none\"/>\n",
              "    <path d=\"M18.56 5.44l.94 2.06.94-2.06 2.06-.94-2.06-.94-.94-2.06-.94 2.06-2.06.94zm-11 1L8.5 8.5l.94-2.06 2.06-.94-2.06-.94L8.5 2.5l-.94 2.06-2.06.94zm10 10l.94 2.06.94-2.06 2.06-.94-2.06-.94-.94-2.06-.94 2.06-2.06.94z\"/><path d=\"M17.41 7.96l-1.37-1.37c-.4-.4-.92-.59-1.43-.59-.52 0-1.04.2-1.43.59L10.3 9.45l-7.72 7.72c-.78.78-.78 2.05 0 2.83L4 21.41c.39.39.9.59 1.41.59.51 0 1.02-.2 1.41-.59l7.78-7.78 2.81-2.81c.8-.78.8-2.07 0-2.86zM5.41 20L4 18.59l7.72-7.72 1.47 1.35L5.41 20z\"/>\n",
              "  </svg>\n",
              "      </button>\n",
              "      \n",
              "  <style>\n",
              "    .colab-df-container {\n",
              "      display:flex;\n",
              "      flex-wrap:wrap;\n",
              "      gap: 12px;\n",
              "    }\n",
              "\n",
              "    .colab-df-convert {\n",
              "      background-color: #E8F0FE;\n",
              "      border: none;\n",
              "      border-radius: 50%;\n",
              "      cursor: pointer;\n",
              "      display: none;\n",
              "      fill: #1967D2;\n",
              "      height: 32px;\n",
              "      padding: 0 0 0 0;\n",
              "      width: 32px;\n",
              "    }\n",
              "\n",
              "    .colab-df-convert:hover {\n",
              "      background-color: #E2EBFA;\n",
              "      box-shadow: 0px 1px 2px rgba(60, 64, 67, 0.3), 0px 1px 3px 1px rgba(60, 64, 67, 0.15);\n",
              "      fill: #174EA6;\n",
              "    }\n",
              "\n",
              "    [theme=dark] .colab-df-convert {\n",
              "      background-color: #3B4455;\n",
              "      fill: #D2E3FC;\n",
              "    }\n",
              "\n",
              "    [theme=dark] .colab-df-convert:hover {\n",
              "      background-color: #434B5C;\n",
              "      box-shadow: 0px 1px 3px 1px rgba(0, 0, 0, 0.15);\n",
              "      filter: drop-shadow(0px 1px 2px rgba(0, 0, 0, 0.3));\n",
              "      fill: #FFFFFF;\n",
              "    }\n",
              "  </style>\n",
              "\n",
              "      <script>\n",
              "        const buttonEl =\n",
              "          document.querySelector('#df-45405314-79fa-4bc5-a278-7defe90d576f button.colab-df-convert');\n",
              "        buttonEl.style.display =\n",
              "          google.colab.kernel.accessAllowed ? 'block' : 'none';\n",
              "\n",
              "        async function convertToInteractive(key) {\n",
              "          const element = document.querySelector('#df-45405314-79fa-4bc5-a278-7defe90d576f');\n",
              "          const dataTable =\n",
              "            await google.colab.kernel.invokeFunction('convertToInteractive',\n",
              "                                                     [key], {});\n",
              "          if (!dataTable) return;\n",
              "\n",
              "          const docLinkHtml = 'Like what you see? Visit the ' +\n",
              "            '<a target=\"_blank\" href=https://colab.research.google.com/notebooks/data_table.ipynb>data table notebook</a>'\n",
              "            + ' to learn more about interactive tables.';\n",
              "          element.innerHTML = '';\n",
              "          dataTable['output_type'] = 'display_data';\n",
              "          await google.colab.output.renderOutput(dataTable, element);\n",
              "          const docLink = document.createElement('div');\n",
              "          docLink.innerHTML = docLinkHtml;\n",
              "          element.appendChild(docLink);\n",
              "        }\n",
              "      </script>\n",
              "    </div>\n",
              "  </div>\n",
              "  "
            ]
          },
          "metadata": {},
          "execution_count": 39
        }
      ]
    },
    {
      "cell_type": "code",
      "source": [
        "df2 = df1.fillna(df1.median())\n",
        "df3 = df1.fillna(0)\n",
        "print(df2,\"\\n\",df3)"
      ],
      "metadata": {
        "colab": {
          "base_uri": "https://localhost:8080/"
        },
        "id": "Q2TXs0i-Xd0Z",
        "outputId": "8961023a-2bcd-4fc3-c46f-e7fa3a7984ad"
      },
      "execution_count": null,
      "outputs": [
        {
          "output_type": "stream",
          "name": "stdout",
          "text": [
            "     U1   U2   U3   U4\n",
            "0  3.20  5.0  2.0  4.0\n",
            "1  2.85  1.3  2.3  3.5\n",
            "2  2.50  4.0  2.3  4.0\n",
            "3  2.85  3.8  4.0  5.0\n",
            "4  2.85  3.9  2.3  4.2 \n",
            "     U1   U2   U3   U4\n",
            "0  3.2  5.0  2.0  4.0\n",
            "1  0.0  1.3  2.3  3.5\n",
            "2  2.5  4.0  0.0  4.0\n",
            "3  0.0  3.8  4.0  5.0\n",
            "4  0.0  0.0  0.0  4.2\n"
          ]
        }
      ]
    },
    {
      "cell_type": "code",
      "source": [
        "print(df2.sum(),\"\\n\")\n",
        "print(df2.sum(axis=1),\"\\n\")\n",
        "print(df2.head(3))\n",
        "print(df2.tail(2))\n",
        "df2.describe()\n",
        "print()\n",
        "df2.max() #Max value in each column\n",
        "df2.info()\n",
        "df2.memory_usage()"
      ],
      "metadata": {
        "colab": {
          "base_uri": "https://localhost:8080/"
        },
        "id": "oHrKvoV4UTIl",
        "outputId": "0327766c-faa3-4394-bc9b-858e0f492f24"
      },
      "execution_count": null,
      "outputs": [
        {
          "output_type": "stream",
          "name": "stdout",
          "text": [
            "U1    14.25\n",
            "U2    18.00\n",
            "U3    12.90\n",
            "U4    20.70\n",
            "dtype: float64 \n",
            "\n",
            "0    14.20\n",
            "1     9.95\n",
            "2    12.80\n",
            "3    15.65\n",
            "4    13.25\n",
            "dtype: float64 \n",
            "\n",
            "     U1   U2   U3   U4\n",
            "0  3.20  5.0  2.0  4.0\n",
            "1  2.85  1.3  2.3  3.5\n",
            "2  2.50  4.0  2.3  4.0\n",
            "     U1   U2   U3   U4\n",
            "3  2.85  3.8  4.0  5.0\n",
            "4  2.85  3.9  2.3  4.2\n",
            "\n",
            "<class 'pandas.core.frame.DataFrame'>\n",
            "RangeIndex: 5 entries, 0 to 4\n",
            "Data columns (total 4 columns):\n",
            " #   Column  Non-Null Count  Dtype  \n",
            "---  ------  --------------  -----  \n",
            " 0   U1      5 non-null      float64\n",
            " 1   U2      5 non-null      float64\n",
            " 2   U3      5 non-null      float64\n",
            " 3   U4      5 non-null      float64\n",
            "dtypes: float64(4)\n",
            "memory usage: 288.0 bytes\n"
          ]
        },
        {
          "output_type": "execute_result",
          "data": {
            "text/plain": [
              "Index    128\n",
              "U1        40\n",
              "U2        40\n",
              "U3        40\n",
              "U4        40\n",
              "dtype: int64"
            ]
          },
          "metadata": {},
          "execution_count": 41
        }
      ]
    },
    {
      "cell_type": "code",
      "source": [
        "df = pd.read_csv('Book1.csv')\n",
        "print(df)"
      ],
      "metadata": {
        "colab": {
          "base_uri": "https://localhost:8080/"
        },
        "id": "RWQ1LmaVVPRE",
        "outputId": "f4e20ad1-a05f-4951-9ba9-0302bbb96f3a"
      },
      "execution_count": null,
      "outputs": [
        {
          "output_type": "stream",
          "name": "stdout",
          "text": [
            "   Sno Initial\n",
            "0    1       A\n",
            "1    2       B\n",
            "2    3       C\n",
            "3    4       D\n",
            "4    5       E\n",
            "5    6       F\n"
          ]
        }
      ]
    },
    {
      "cell_type": "code",
      "source": [
        "df2.to_csv(\"Book3.csv\",index = False)"
      ],
      "metadata": {
        "id": "SYz67ydGVdUv"
      },
      "execution_count": null,
      "outputs": []
    }
  ]
}